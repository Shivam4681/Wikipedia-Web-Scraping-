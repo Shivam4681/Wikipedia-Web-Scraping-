{
 "cells": [
  {
   "cell_type": "code",
   "execution_count": 1,
   "id": "c903d6e2-5e05-4ef3-8e4e-3bf892488da6",
   "metadata": {},
   "outputs": [],
   "source": [
    "import requests\n",
    "from bs4 import BeautifulSoup"
   ]
  },
  {
   "cell_type": "code",
   "execution_count": 2,
   "id": "466179de-ce95-4f8b-a49c-302cedd878da",
   "metadata": {},
   "outputs": [],
   "source": [
    "def get_population_data(url):\n",
    "    # Send a GET request to the Wikipedia page\n",
    "    response = requests.get('https://en.wikipedia.org/wiki/World_population')\n",
    "    \n",
    "    # Check if the request was successful\n",
    "    if response.status_code == 200:\n",
    "        # Parse the HTML content of the page\n",
    "        soup = BeautifulSoup(response.content, 'html.parser')\n",
    "        \n",
    "        # Find the table containing population data\n",
    "        population_table = soup.find('table', class_='wikitable sortable')\n",
    "        \n",
    "        # Initialize an empty dictionary to store population data\n",
    "        population_data = {}\n",
    "        \n",
    "        # Iterate through each row in the table\n",
    "        for row in population_table.find_all('tr')[1:]:\n",
    "            # Extract the country/territory name\n",
    "            country = row.find('td').text.strip()\n",
    "            \n",
    "            # Extract the population value\n",
    "            population = row.find_all('td')[1].text.strip()\n",
    "            \n",
    "            # Store the population data in the dictionary\n",
    "            population_data[country] = population\n",
    "        \n",
    "        return population_data\n",
    "    else:\n",
    "        print(\"Failed to retrieve data from the provided URL\")\n",
    "        return None"
   ]
  },
  {
   "cell_type": "code",
   "execution_count": 3,
   "id": "b4499403-5e19-4be7-823f-69f81a98e298",
   "metadata": {},
   "outputs": [
    {
     "name": "stdout",
     "output_type": "stream",
     "text": [
      "Asia: 104.1\n",
      "Africa: 44.4\n",
      "Europe: 73.4\n",
      "Latin America: 24.1\n",
      "Northern America[note 1]: 14.9\n",
      "Oceania: 5\n",
      "Antarctica: ~0\n"
     ]
    }
   ],
   "source": [
    "# Example usage:\n",
    "wikipedia_url = \"https://en.wikipedia.org/wiki/World_population\"\n",
    "population_data = get_population_data(wikipedia_url)\n",
    "\n",
    "if population_data:\n",
    "    for country, population in population_data.items():\n",
    "        print(f\"{country}: {population}\")\n",
    "else:\n",
    "    print(\"No population data retrieved\")\n"
   ]
  }
 ],
 "metadata": {
  "kernelspec": {
   "display_name": "Python 3 (ipykernel)",
   "language": "python",
   "name": "python3"
  },
  "language_info": {
   "codemirror_mode": {
    "name": "ipython",
    "version": 3
   },
   "file_extension": ".py",
   "mimetype": "text/x-python",
   "name": "python",
   "nbconvert_exporter": "python",
   "pygments_lexer": "ipython3",
   "version": "3.12.1"
  }
 },
 "nbformat": 4,
 "nbformat_minor": 5
}
